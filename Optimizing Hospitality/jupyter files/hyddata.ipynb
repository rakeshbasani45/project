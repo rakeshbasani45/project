{
 "cells": [
  {
   "cell_type": "code",
   "execution_count": 15,
   "id": "b626fc67-17e4-4b10-8919-36b2c997b088",
   "metadata": {},
   "outputs": [],
   "source": [
    "from bs4 import BeautifulSoup\n",
    "import requests"
   ]
  },
  {
   "cell_type": "code",
   "execution_count": 17,
   "id": "ebcdf680-47ea-4569-9653-4c21b16c8d10",
   "metadata": {},
   "outputs": [],
   "source": [
    "import openpyxl\n",
    "excelwb = openpyxl.Workbook()\n",
    "sheet = excelwb.active\n",
    "sheet.append([\"Hotel_name\",\"Ratings\",\"Reviews\",\"Review_count\",\"Price\",\"Room_type\",\"Bed_type\",\"Location\",\"Tax\",\"Distance_from_centralcity\"])"
   ]
  },
  {
   "cell_type": "code",
   "execution_count": 19,
   "id": "cbcb91a3-539f-4e86-ac6f-8dae2bc39944",
   "metadata": {},
   "outputs": [],
   "source": [
    "headers = {'User-Agent': 'Mozilla/5.0 (Windows NT 10.0; Win64; x64) AppleWebKit/537.36 (KHTML, like Gecko) Chrome/116.0.0.0 Safari/537.36 Edg/116.0.1938.54'}"
   ]
  },
  {
   "cell_type": "code",
   "execution_count": 21,
   "id": "702e5596-ef15-43f6-894d-bb4915a80178",
   "metadata": {},
   "outputs": [],
   "source": [
    "data = requests.get(r\"https://www.booking.com/searchresults.en-gb.html?ss=Mumbai%2C+Maharashtra%2C+India&ssne=Hyderabad&ssne_untouched=Hyderabad&label=msn-HiTydpHndf_KligNqm9Sgw-79852220055838%3Atikwd-79852393960302%3Aloc-90%3Aneo%3Amte%3Alp116070%3Adec%3Aqsbooking.com&aid=2369661&lang=en-gb&sb=1&src_elem=sb&src=searchresults&dest_id=-2092174&dest_type=city&ac_position=0&ac_click_type=b&ac_langcode=en&ac_suggestion_list_length=5&search_selected=true&search_pageview_id=1a9f6013bbb008bc&ac_meta=GhAxYTlmNjAxM2JiYjAwOGJjIAAoATICZW46BU1VTUJBQABKAFAA&checkin=2025-01-19&checkout=2025-01-20&group_adults=1&no_rooms=1&group_children=0\",headers = headers)\n",
    "soup = BeautifulSoup(data.text,\"html.parser\")"
   ]
  },
  {
   "cell_type": "code",
   "execution_count": 23,
   "id": "e281fa83-291a-4dc1-9d7d-fe3fb21a45f0",
   "metadata": {},
   "outputs": [],
   "source": [
    "hotels = soup.find(\"body\")\\\n",
    "             .find(\"div\",id=\"bodyconstraint-inner\")\\\n",
    "             .find(\"div\",attrs={\"data-capla-component-boundary\":\"b-search-web-searchresults/SearchResultsDesktop\"})\\\n",
    "             .find(\"div\",class_=\"af5895d4b2\")\\\n",
    "             .find(\"div\",class_=\"dcf496a7b9 bb2746aad9\")\\\n",
    "             .find_all(\"div\",class_=\"c066246e13 d8aec464ca\",attrs={\"data-testid\":\"property-card-container\"})"
   ]
  },
  {
   "cell_type": "code",
   "execution_count": 25,
   "id": "b3e1a92a-6518-424c-90ea-033ffe33513c",
   "metadata": {},
   "outputs": [
    {
     "name": "stdout",
     "output_type": "stream",
     "text": [
      "Blossoms Room Hotel Classic International -Road View- Free Breakfast\n",
      "Mercure Hyderabad KCP Banjara Hills, An Accor Hotel\n",
      "Holiday Inn Express Hyderabad Banjara Hills, an IHG Hotel\n",
      "Radisson Hyderabad Hitec City\n",
      "Holiday Inn Express Hyderabad HITEC City, an IHG Hotel\n",
      "Blossoms Room Hotel Holidays inn Plaza- Free One Meal\n",
      "Avasa Hotel\n",
      "Novotel Hyderabad Convention Centre\n",
      "Wild Wings Premium Hotel\n",
      "Greenpark Hyderabad\n",
      "Best Western Ashoka\n",
      "Hotel Silver Clé\n",
      "Vivanta Hyderabad, Begumpet\n",
      "Marigold Hotel\n",
      "Daspalla Hyderabad\n",
      "Aditya Park-A Sarovar Portico Hotel\n",
      "Red Fox by Lemon Tree Hotels, Hyderabad\n",
      "Fairfield by Marriott Hyderabad Gachibowli\n",
      "The Westin Hyderabad Mindspace\n",
      "Aditya Hometel\n",
      "Hotel Deccan Serai Grande, Gachibowli, Hyderabad\n",
      "White Ridge Premium\n",
      "An error occurred: 'NoneType' object has no attribute 'find'\n",
      "The Leela Hyderabad\n",
      "Lemon Tree Premier Hitec City Hyderabad\n"
     ]
    }
   ],
   "source": [
    "for hotel in hotels:\n",
    "    try:\n",
    "        Hotel_name = hotel.find(\"div\",class_=\"c1edfbabcb\")\\\n",
    "                          .find(\"div\",class_=\"f6431b446c a15b38c233\").text\n",
    "        Ratings = hotel.find(\"div\",class_=\"c1edfbabcb\")\\\n",
    "                       .find(\"div\",class_=\"a3b8729ab1 d86cee9b25\").find(\"div\",class_=\"ac4a7896c7\").text.split(\" \")[1]\n",
    "        Reviews = hotel.find(\"div\",class_=\"c1edfbabcb\")\\\n",
    "                       .find(\"div\",class_=\"a3b8729ab1 e6208ee469 cb2cbb3ccb\").text\n",
    "        Review_count = hotel.find(\"div\",class_=\"c1edfbabcb\")\\\n",
    "                            .find(\"div\",class_=\"abf093bdfe f45d8e4c32 d935416c47\").text.split(\" \")[0]\n",
    "        Price = hotel.find(\"div\",class_=\"c1edfbabcb\")\\\n",
    "                     .find(\"div\",class_=\"b1037148f8 c730b02848\")\\\n",
    "                     .find(\"span\",class_=\"f6431b446c fbfd7c1165 e84eb96b1f\").text\n",
    "        Room_type = hotel.find(\"div\",class_=\"c1edfbabcb\")\\\n",
    "                         .find(\"div\",class_=\"b1037148f8 c730b02848\")\\\n",
    "                         .find(\"h4\",class_=\"abf093bdfe e8f7c070a7\").text\n",
    "        Bed_type = hotel.find(\"div\",class_=\"c1edfbabcb\")\\\n",
    "                        .find(\"div\",class_=\"b1037148f8 c730b02848\")\\\n",
    "                        .find(\"div\",class_=\"abf093bdfe\").text\n",
    "        Location = hotel.find(\"div\",class_=\"c1edfbabcb\")\\\n",
    "                        .find(\"span\",class_=\"aee5343fdb def9bc142a\").text\n",
    "        Tax = hotel.find(\"div\",class_=\"c1edfbabcb\")\\\n",
    "                   .find(\"div\",class_=\"b1037148f8 c730b02848\")\\\n",
    "                   .find(\"div\",class_=\"abf093bdfe f45d8e4c32\",attrs={\"data-testid\":\"taxes-and-charges\"}).text.split(\" \")[0]\n",
    "        Distance_from_centralcity = hotel.find(\"div\",class_=\"c1edfbabcb\")\\\n",
    "                                         .find(\"span\",attrs={\"data-testid\":\"distance\"}).text.split(\" \")[0]\n",
    "        sheet.append([Hotel_name,Ratings,Reviews,Review_count,Price,Room_type,Bed_type,Location,Tax,Distance_from_centralcity])\n",
    "        print(Hotel_name)\n",
    "    except Exception as e:\n",
    "        print(f\"An error occurred: {e}\")\n",
    "    excelwb.save(r\"D:\\hyddata.xlsx\")\n",
    "                        "
   ]
  },
  {
   "cell_type": "code",
   "execution_count": null,
   "id": "b726059f-1c46-4834-988d-7cd749816260",
   "metadata": {},
   "outputs": [],
   "source": []
  }
 ],
 "metadata": {
  "kernelspec": {
   "display_name": "Python 3 (ipykernel)",
   "language": "python",
   "name": "python3"
  },
  "language_info": {
   "codemirror_mode": {
    "name": "ipython",
    "version": 3
   },
   "file_extension": ".py",
   "mimetype": "text/x-python",
   "name": "python",
   "nbconvert_exporter": "python",
   "pygments_lexer": "ipython3",
   "version": "3.12.7"
  }
 },
 "nbformat": 4,
 "nbformat_minor": 5
}
