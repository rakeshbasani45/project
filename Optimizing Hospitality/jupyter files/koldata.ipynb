{
 "cells": [
  {
   "cell_type": "code",
   "execution_count": 1,
   "id": "4330332c-0951-4044-85ab-2ac777cdf6f2",
   "metadata": {},
   "outputs": [],
   "source": [
    "from bs4 import BeautifulSoup\n",
    "import requests"
   ]
  },
  {
   "cell_type": "code",
   "execution_count": 3,
   "id": "500f3d26-37f2-4e04-83f4-e2e905c07c07",
   "metadata": {},
   "outputs": [],
   "source": [
    "import openpyxl\n",
    "excelwb = openpyxl.Workbook()\n",
    "sheet = excelwb.active\n",
    "sheet.append([\"Hotel_name\",\"Ratings\",\"Reviews\",\"Review_count\",\"Price\",\"Room_type\",\"Bed_type\",\"Location\",\"Tax\",\"Distance_from_centralcity\"])"
   ]
  },
  {
   "cell_type": "code",
   "execution_count": 5,
   "id": "bf7ed54e-3349-4ea8-9d58-5271dc0cd185",
   "metadata": {},
   "outputs": [],
   "source": [
    "headers = {'User-Agent': 'Mozilla/5.0 (Windows NT 10.0; Win64; x64) AppleWebKit/537.36 (KHTML, like Gecko) Chrome/116.0.0.0 Safari/537.36 Edg/116.0.1938.54'}"
   ]
  },
  {
   "cell_type": "code",
   "execution_count": 7,
   "id": "9551d1a4-89a0-463c-a905-47073ca2f2a6",
   "metadata": {},
   "outputs": [],
   "source": [
    "data = requests.get(r\"https://www.booking.com/searchresults.en-gb.html?ss=Kolkata%2C+West+Bengal%2C+India&ssne=Hyderabad&ssne_untouched=Hyderabad&label=msn-HiTydpHndf_KligNqm9Sgw-79852220055838%3Atikwd-79852393960302%3Aloc-90%3Aneo%3Amte%3Alp155308%3Adec%3Aqsbooking.com&aid=2369661&lang=en-gb&sb=1&src_elem=sb&src=index&dest_id=-2092511&dest_type=city&ac_position=0&ac_click_type=b&ac_langcode=en&ac_suggestion_list_length=5&search_selected=true&search_pageview_id=4be6349582cb0285&ac_meta=GhA0YmU2MzQ5NTgyY2IwMjg1IAAoATICZW46BGtvbGtAAEoAUAA%3D&checkin=2025-01-23&checkout=2025-01-24&group_adults=1&no_rooms=1&group_children=0\",headers = headers)\n",
    "soup = BeautifulSoup(data.text,\"html.parser\")"
   ]
  },
  {
   "cell_type": "code",
   "execution_count": 9,
   "id": "8cc00d31-9a47-4f0e-8b8e-42b72d64fa4d",
   "metadata": {},
   "outputs": [],
   "source": [
    "hotels = soup.find(\"body\")\\\n",
    "             .find(\"div\",id=\"bodyconstraint-inner\")\\\n",
    "             .find(\"div\",attrs={\"data-capla-component-boundary\":\"b-search-web-searchresults/SearchResultsDesktop\"})\\\n",
    "             .find(\"div\",class_=\"af5895d4b2\")\\\n",
    "             .find(\"div\",class_=\"dcf496a7b9 bb2746aad9\")\\\n",
    "             .find_all(\"div\",class_=\"c066246e13 d8aec464ca\",attrs={\"data-testid\":\"property-card-container\"})"
   ]
  },
  {
   "cell_type": "code",
   "execution_count": 11,
   "id": "9248191b-1737-42eb-bfc8-c351c0da6a79",
   "metadata": {},
   "outputs": [
    {
     "name": "stdout",
     "output_type": "stream",
     "text": [
      "An error occurred: 'NoneType' object has no attribute 'find'\n",
      "An error occurred: 'NoneType' object has no attribute 'find'\n"
     ]
    }
   ],
   "source": [
    "for hotel in hotels:\n",
    "    try:\n",
    "        Hotel_name = hotel.find(\"div\",class_=\"c1edfbabcb\")\\\n",
    "                          .find(\"div\",class_=\"f6431b446c a15b38c233\").text\n",
    "        Ratings = hotel.find(\"div\",class_=\"c1edfbabcb\")\\\n",
    "                       .find(\"div\",class_=\"a3b8729ab1 d86cee9b25\").find(\"div\",class_=\"ac4a7896c7\").text.split(\" \")[1]\n",
    "        Reviews = hotel.find(\"div\",class_=\"c1edfbabcb\")\\\n",
    "                       .find(\"div\",class_=\"a3b8729ab1 e6208ee469 cb2cbb3ccb\").text\n",
    "        Review_count = hotel.find(\"div\",class_=\"c1edfbabcb\")\\\n",
    "                            .find(\"div\",class_=\"abf093bdfe f45d8e4c32 d935416c47\").text.split(\" \")[0]\n",
    "        Price = hotel.find(\"div\",class_=\"c1edfbabcb\")\\\n",
    "                     .find(\"div\",class_=\"b1037148f8 c730b02848\")\\\n",
    "                     .find(\"span\",class_=\"f6431b446c fbfd7c1165 e84eb96b1f\").text\n",
    "        Room_type = hotel.find(\"div\",class_=\"c1edfbabcb\")\\\n",
    "                         .find(\"div\",class_=\"b1037148f8 c730b02848\")\\\n",
    "                         .find(\"h4\",class_=\"abf093bdfe e8f7c070a7\").text\n",
    "        Bed_type = hotel.find(\"div\",class_=\"c1edfbabcb\")\\\n",
    "                        .find(\"div\",class_=\"b1037148f8 c730b02848\")\\\n",
    "                        .find(\"div\",class_=\"abf093bdfe\").text\n",
    "        Location = hotel.find(\"div\",class_=\"c1edfbabcb\")\\\n",
    "                        .find(\"span\",class_=\"aee5343fdb def9bc142a\").text\n",
    "        Tax = hotel.find(\"div\",class_=\"c1edfbabcb\")\\\n",
    "                   .find(\"div\",class_=\"b1037148f8 c730b02848\")\\\n",
    "                   .find(\"div\",class_=\"abf093bdfe f45d8e4c32\",attrs={\"data-testid\":\"taxes-and-charges\"}).text.split(\" \")[0]\n",
    "        Distance_from_centralcity = hotel.find(\"div\",class_=\"c1edfbabcb\")\\\n",
    "                                         .find(\"span\",attrs={\"data-testid\":\"distance\"}).text.split(\" \")[0]\n",
    "        sheet.append([Hotel_name,Ratings,Reviews,Review_count,Price,Room_type,Bed_type,Location,Tax,Distance_from_centralcity])\n",
    "        # print(Hotel_name)\n",
    "    except Exception as e:\n",
    "        print(f\"An error occurred: {e}\")\n",
    "    excelwb.save(r\"D:\\koldata.xlsx\")\n",
    "                        "
   ]
  },
  {
   "cell_type": "code",
   "execution_count": null,
   "id": "3f5b3898-3063-4fe3-bcb1-813e6e9dc815",
   "metadata": {},
   "outputs": [],
   "source": []
  }
 ],
 "metadata": {
  "kernelspec": {
   "display_name": "Python 3 (ipykernel)",
   "language": "python",
   "name": "python3"
  },
  "language_info": {
   "codemirror_mode": {
    "name": "ipython",
    "version": 3
   },
   "file_extension": ".py",
   "mimetype": "text/x-python",
   "name": "python",
   "nbconvert_exporter": "python",
   "pygments_lexer": "ipython3",
   "version": "3.12.7"
  }
 },
 "nbformat": 4,
 "nbformat_minor": 5
}
